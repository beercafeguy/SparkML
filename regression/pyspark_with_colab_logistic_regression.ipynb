{
  "nbformat": 4,
  "nbformat_minor": 0,
  "metadata": {
    "colab": {
      "provenance": [],
      "authorship_tag": "ABX9TyOSkWcsv6CZzuewBMwBXGCz",
      "include_colab_link": true
    },
    "kernelspec": {
      "name": "python3",
      "display_name": "Python 3"
    },
    "language_info": {
      "name": "python"
    }
  },
  "cells": [
    {
      "cell_type": "markdown",
      "metadata": {
        "id": "view-in-github",
        "colab_type": "text"
      },
      "source": [
        "<a href=\"https://colab.research.google.com/github/beercafeguy/SparkML/blob/master/regression/pyspark_with_colab_logistic_regression.ipynb\" target=\"_parent\"><img src=\"https://colab.research.google.com/assets/colab-badge.svg\" alt=\"Open In Colab\"/></a>"
      ]
    },
    {
      "cell_type": "code",
      "execution_count": 1,
      "metadata": {
        "id": "_KY_JVx_iNND"
      },
      "outputs": [],
      "source": [
        "!apt-get install openjdk-8-jdk-headless -qq > /dev/null\n",
        "!wget -q http://archive.apache.org/dist/spark/spark-3.1.1/spark-3.1.1-bin-hadoop3.2.tgz\n",
        "!tar xf spark-3.1.1-bin-hadoop3.2.tgz\n",
        "!pip install -q findspark"
      ]
    },
    {
      "cell_type": "code",
      "source": [
        "!ls -ltr"
      ],
      "metadata": {
        "colab": {
          "base_uri": "https://localhost:8080/"
        },
        "id": "9iESe5PFiP2i",
        "outputId": "9cff0081-de55-4767-8b3b-a2e1a7885d58"
      },
      "execution_count": 2,
      "outputs": [
        {
          "output_type": "stream",
          "name": "stdout",
          "text": [
            "total 223372\n",
            "drwxr-xr-x 13 1000 1000      4096 Feb 22  2021 spark-3.1.1-bin-hadoop3.2\n",
            "-rw-r--r--  1 root root 228721937 Feb 22  2021 spark-3.1.1-bin-hadoop3.2.tgz\n",
            "drwxr-xr-x  1 root root      4096 Aug  3 13:45 sample_data\n"
          ]
        }
      ]
    },
    {
      "cell_type": "code",
      "source": [
        "import os\n",
        "os.environ[\"JAVA_HOME\"] = \"/usr/lib/jvm/java-8-openjdk-amd64\"\n",
        "os.environ[\"SPARK_HOME\"] = \"/content/spark-3.1.1-bin-hadoop3.2\""
      ],
      "metadata": {
        "id": "VDKO-tmwiRd4"
      },
      "execution_count": 3,
      "outputs": []
    },
    {
      "cell_type": "code",
      "source": [
        "import findspark\n",
        "findspark.init()\n",
        "from pyspark.sql import SparkSession\n",
        "spark = SparkSession.builder.master(\"local[*]\").getOrCreate()\n",
        "spark.conf.set(\"spark.sql.repl.eagerEval.enabled\", True) # Property used to format output tables better\n",
        "spark"
      ],
      "metadata": {
        "colab": {
          "base_uri": "https://localhost:8080/",
          "height": 219
        },
        "id": "FUTEL6GoiePY",
        "outputId": "21da872c-92ed-4fc0-ea65-0b02ed76bd4d"
      },
      "execution_count": 4,
      "outputs": [
        {
          "output_type": "execute_result",
          "data": {
            "text/plain": [
              "<pyspark.sql.session.SparkSession at 0x7e6ed4191570>"
            ],
            "text/html": [
              "\n",
              "            <div>\n",
              "                <p><b>SparkSession - in-memory</b></p>\n",
              "                \n",
              "        <div>\n",
              "            <p><b>SparkContext</b></p>\n",
              "\n",
              "            <p><a href=\"http://34889330f8d4:4040\">Spark UI</a></p>\n",
              "\n",
              "            <dl>\n",
              "              <dt>Version</dt>\n",
              "                <dd><code>v3.1.1</code></dd>\n",
              "              <dt>Master</dt>\n",
              "                <dd><code>local[*]</code></dd>\n",
              "              <dt>AppName</dt>\n",
              "                <dd><code>pyspark-shell</code></dd>\n",
              "            </dl>\n",
              "        </div>\n",
              "        \n",
              "            </div>\n",
              "        "
            ]
          },
          "metadata": {},
          "execution_count": 4
        }
      ]
    },
    {
      "cell_type": "code",
      "source": [
        "!wget https://jacobceles.github.io/knowledge_repo/colab_and_pyspark/cars.csv"
      ],
      "metadata": {
        "colab": {
          "base_uri": "https://localhost:8080/"
        },
        "id": "KVnfoL7Oikch",
        "outputId": "5b58bfbc-a4bc-4a82-9f45-75d9ba7f5008"
      },
      "execution_count": 5,
      "outputs": [
        {
          "output_type": "stream",
          "name": "stdout",
          "text": [
            "--2023-08-06 11:11:10--  https://jacobceles.github.io/knowledge_repo/colab_and_pyspark/cars.csv\n",
            "Resolving jacobceles.github.io (jacobceles.github.io)... 185.199.108.153, 185.199.109.153, 185.199.110.153, ...\n",
            "Connecting to jacobceles.github.io (jacobceles.github.io)|185.199.108.153|:443... connected.\n",
            "HTTP request sent, awaiting response... 301 Moved Permanently\n",
            "Location: https://jacobcelestine.com/knowledge_repo/colab_and_pyspark/cars.csv [following]\n",
            "--2023-08-06 11:11:10--  https://jacobcelestine.com/knowledge_repo/colab_and_pyspark/cars.csv\n",
            "Resolving jacobcelestine.com (jacobcelestine.com)... 185.199.108.153, 185.199.109.153, 185.199.110.153, ...\n",
            "Connecting to jacobcelestine.com (jacobcelestine.com)|185.199.108.153|:443... connected.\n",
            "HTTP request sent, awaiting response... 200 OK\n",
            "Length: 22608 (22K) [text/csv]\n",
            "Saving to: ‘cars.csv’\n",
            "\n",
            "\rcars.csv              0%[                    ]       0  --.-KB/s               \rcars.csv            100%[===================>]  22.08K  --.-KB/s    in 0s      \n",
            "\n",
            "2023-08-06 11:11:10 (152 MB/s) - ‘cars.csv’ saved [22608/22608]\n",
            "\n"
          ]
        }
      ]
    },
    {
      "cell_type": "code",
      "source": [
        "!ls -ltr"
      ],
      "metadata": {
        "colab": {
          "base_uri": "https://localhost:8080/"
        },
        "id": "oz3no2nHizlu",
        "outputId": "fd9cad97-0ce7-436b-8cf7-08a4c625d094"
      },
      "execution_count": 6,
      "outputs": [
        {
          "output_type": "stream",
          "name": "stdout",
          "text": [
            "total 223396\n",
            "drwxr-xr-x 13 1000 1000      4096 Feb 22  2021 spark-3.1.1-bin-hadoop3.2\n",
            "-rw-r--r--  1 root root 228721937 Feb 22  2021 spark-3.1.1-bin-hadoop3.2.tgz\n",
            "-rw-r--r--  1 root root     22608 Apr 16 22:03 cars.csv\n",
            "drwxr-xr-x  1 root root      4096 Aug  3 13:45 sample_data\n"
          ]
        }
      ]
    },
    {
      "cell_type": "code",
      "source": [
        "spark"
      ],
      "metadata": {
        "colab": {
          "base_uri": "https://localhost:8080/",
          "height": 219
        },
        "id": "un5xBpDDi1LU",
        "outputId": "e8b6ac68-d3d2-4da1-f454-3a423531932d"
      },
      "execution_count": 7,
      "outputs": [
        {
          "output_type": "execute_result",
          "data": {
            "text/plain": [
              "<pyspark.sql.session.SparkSession at 0x7e6ed4191570>"
            ],
            "text/html": [
              "\n",
              "            <div>\n",
              "                <p><b>SparkSession - in-memory</b></p>\n",
              "                \n",
              "        <div>\n",
              "            <p><b>SparkContext</b></p>\n",
              "\n",
              "            <p><a href=\"http://34889330f8d4:4040\">Spark UI</a></p>\n",
              "\n",
              "            <dl>\n",
              "              <dt>Version</dt>\n",
              "                <dd><code>v3.1.1</code></dd>\n",
              "              <dt>Master</dt>\n",
              "                <dd><code>local[*]</code></dd>\n",
              "              <dt>AppName</dt>\n",
              "                <dd><code>pyspark-shell</code></dd>\n",
              "            </dl>\n",
              "        </div>\n",
              "        \n",
              "            </div>\n",
              "        "
            ]
          },
          "metadata": {},
          "execution_count": 7
        }
      ]
    },
    {
      "cell_type": "code",
      "source": [
        "from google.colab import drive\n",
        "drive.mount('/content/drive')"
      ],
      "metadata": {
        "colab": {
          "base_uri": "https://localhost:8080/"
        },
        "id": "w3_j2JJzi4zi",
        "outputId": "bb5083e5-3a88-432d-8bbc-433e3f244be3"
      },
      "execution_count": 8,
      "outputs": [
        {
          "output_type": "stream",
          "name": "stdout",
          "text": [
            "Mounted at /content/drive\n"
          ]
        }
      ]
    },
    {
      "cell_type": "code",
      "source": [
        "from pyspark.sql import functions as F\n",
        "path = '/content/drive/MyDrive/ML_A_Z/Part_3_Classification/Section_18_Naive_Bayes/Python/Social_Network_Ads.csv'\n",
        "df = (\n",
        "    spark.read.option('header','true').csv(path)\n",
        "    .withColumn('Age',F.col('Age').cast('int'))\n",
        "    .withColumn('EstimatedSalary',F.col('EstimatedSalary').cast('double'))\n",
        "    .withColumn('Purchased',F.col('Purchased').cast('int'))\n",
        ")"
      ],
      "metadata": {
        "id": "y1LoDO-eM40b"
      },
      "execution_count": 26,
      "outputs": []
    },
    {
      "cell_type": "code",
      "source": [
        "df.show()"
      ],
      "metadata": {
        "colab": {
          "base_uri": "https://localhost:8080/"
        },
        "id": "GT0GIYj9NAXC",
        "outputId": "a8792655-d314-4885-bc11-fd4f0ab996ef"
      },
      "execution_count": 27,
      "outputs": [
        {
          "output_type": "stream",
          "name": "stdout",
          "text": [
            "+---+---------------+---------+\n",
            "|Age|EstimatedSalary|Purchased|\n",
            "+---+---------------+---------+\n",
            "| 19|        19000.0|        0|\n",
            "| 35|        20000.0|        0|\n",
            "| 26|        43000.0|        0|\n",
            "| 27|        57000.0|        0|\n",
            "| 19|        76000.0|        0|\n",
            "| 27|        58000.0|        0|\n",
            "| 27|        84000.0|        0|\n",
            "| 32|       150000.0|        1|\n",
            "| 25|        33000.0|        0|\n",
            "| 35|        65000.0|        0|\n",
            "| 26|        80000.0|        0|\n",
            "| 26|        52000.0|        0|\n",
            "| 20|        86000.0|        0|\n",
            "| 32|        18000.0|        0|\n",
            "| 18|        82000.0|        0|\n",
            "| 29|        80000.0|        0|\n",
            "| 47|        25000.0|        1|\n",
            "| 45|        26000.0|        1|\n",
            "| 46|        28000.0|        1|\n",
            "| 48|        29000.0|        1|\n",
            "+---+---------------+---------+\n",
            "only showing top 20 rows\n",
            "\n"
          ]
        }
      ]
    },
    {
      "cell_type": "code",
      "source": [
        "df.describe().toPandas().transpose()"
      ],
      "metadata": {
        "colab": {
          "base_uri": "https://localhost:8080/",
          "height": 175
        },
        "id": "rig_J5pzNFw7",
        "outputId": "7e2f0ac0-9aca-4f8c-9fbc-355bbc28bb2a"
      },
      "execution_count": 28,
      "outputs": [
        {
          "output_type": "execute_result",
          "data": {
            "text/plain": [
              "                     0        1                   2        3         4\n",
              "summary          count     mean              stddev      min       max\n",
              "Age                400   37.655  10.482876597307927       18        60\n",
              "EstimatedSalary    400  69742.5    34096.9602824248  15000.0  150000.0\n",
              "Purchased          400   0.3575  0.4798639635968691        0         1"
            ],
            "text/html": [
              "\n",
              "\n",
              "  <div id=\"df-6fb50853-183f-4c58-ae58-027f9dfea15c\">\n",
              "    <div class=\"colab-df-container\">\n",
              "      <div>\n",
              "<style scoped>\n",
              "    .dataframe tbody tr th:only-of-type {\n",
              "        vertical-align: middle;\n",
              "    }\n",
              "\n",
              "    .dataframe tbody tr th {\n",
              "        vertical-align: top;\n",
              "    }\n",
              "\n",
              "    .dataframe thead th {\n",
              "        text-align: right;\n",
              "    }\n",
              "</style>\n",
              "<table border=\"1\" class=\"dataframe\">\n",
              "  <thead>\n",
              "    <tr style=\"text-align: right;\">\n",
              "      <th></th>\n",
              "      <th>0</th>\n",
              "      <th>1</th>\n",
              "      <th>2</th>\n",
              "      <th>3</th>\n",
              "      <th>4</th>\n",
              "    </tr>\n",
              "  </thead>\n",
              "  <tbody>\n",
              "    <tr>\n",
              "      <th>summary</th>\n",
              "      <td>count</td>\n",
              "      <td>mean</td>\n",
              "      <td>stddev</td>\n",
              "      <td>min</td>\n",
              "      <td>max</td>\n",
              "    </tr>\n",
              "    <tr>\n",
              "      <th>Age</th>\n",
              "      <td>400</td>\n",
              "      <td>37.655</td>\n",
              "      <td>10.482876597307927</td>\n",
              "      <td>18</td>\n",
              "      <td>60</td>\n",
              "    </tr>\n",
              "    <tr>\n",
              "      <th>EstimatedSalary</th>\n",
              "      <td>400</td>\n",
              "      <td>69742.5</td>\n",
              "      <td>34096.9602824248</td>\n",
              "      <td>15000.0</td>\n",
              "      <td>150000.0</td>\n",
              "    </tr>\n",
              "    <tr>\n",
              "      <th>Purchased</th>\n",
              "      <td>400</td>\n",
              "      <td>0.3575</td>\n",
              "      <td>0.4798639635968691</td>\n",
              "      <td>0</td>\n",
              "      <td>1</td>\n",
              "    </tr>\n",
              "  </tbody>\n",
              "</table>\n",
              "</div>\n",
              "      <button class=\"colab-df-convert\" onclick=\"convertToInteractive('df-6fb50853-183f-4c58-ae58-027f9dfea15c')\"\n",
              "              title=\"Convert this dataframe to an interactive table.\"\n",
              "              style=\"display:none;\">\n",
              "\n",
              "  <svg xmlns=\"http://www.w3.org/2000/svg\" height=\"24px\"viewBox=\"0 0 24 24\"\n",
              "       width=\"24px\">\n",
              "    <path d=\"M0 0h24v24H0V0z\" fill=\"none\"/>\n",
              "    <path d=\"M18.56 5.44l.94 2.06.94-2.06 2.06-.94-2.06-.94-.94-2.06-.94 2.06-2.06.94zm-11 1L8.5 8.5l.94-2.06 2.06-.94-2.06-.94L8.5 2.5l-.94 2.06-2.06.94zm10 10l.94 2.06.94-2.06 2.06-.94-2.06-.94-.94-2.06-.94 2.06-2.06.94z\"/><path d=\"M17.41 7.96l-1.37-1.37c-.4-.4-.92-.59-1.43-.59-.52 0-1.04.2-1.43.59L10.3 9.45l-7.72 7.72c-.78.78-.78 2.05 0 2.83L4 21.41c.39.39.9.59 1.41.59.51 0 1.02-.2 1.41-.59l7.78-7.78 2.81-2.81c.8-.78.8-2.07 0-2.86zM5.41 20L4 18.59l7.72-7.72 1.47 1.35L5.41 20z\"/>\n",
              "  </svg>\n",
              "      </button>\n",
              "\n",
              "\n",
              "\n",
              "    <div id=\"df-d45a7139-be57-47f2-8981-d24a13f92f52\">\n",
              "      <button class=\"colab-df-quickchart\" onclick=\"quickchart('df-d45a7139-be57-47f2-8981-d24a13f92f52')\"\n",
              "              title=\"Suggest charts.\"\n",
              "              style=\"display:none;\">\n",
              "\n",
              "<svg xmlns=\"http://www.w3.org/2000/svg\" height=\"24px\"viewBox=\"0 0 24 24\"\n",
              "     width=\"24px\">\n",
              "    <g>\n",
              "        <path d=\"M19 3H5c-1.1 0-2 .9-2 2v14c0 1.1.9 2 2 2h14c1.1 0 2-.9 2-2V5c0-1.1-.9-2-2-2zM9 17H7v-7h2v7zm4 0h-2V7h2v10zm4 0h-2v-4h2v4z\"/>\n",
              "    </g>\n",
              "</svg>\n",
              "      </button>\n",
              "    </div>\n",
              "\n",
              "<style>\n",
              "  .colab-df-quickchart {\n",
              "    background-color: #E8F0FE;\n",
              "    border: none;\n",
              "    border-radius: 50%;\n",
              "    cursor: pointer;\n",
              "    display: none;\n",
              "    fill: #1967D2;\n",
              "    height: 32px;\n",
              "    padding: 0 0 0 0;\n",
              "    width: 32px;\n",
              "  }\n",
              "\n",
              "  .colab-df-quickchart:hover {\n",
              "    background-color: #E2EBFA;\n",
              "    box-shadow: 0px 1px 2px rgba(60, 64, 67, 0.3), 0px 1px 3px 1px rgba(60, 64, 67, 0.15);\n",
              "    fill: #174EA6;\n",
              "  }\n",
              "\n",
              "  [theme=dark] .colab-df-quickchart {\n",
              "    background-color: #3B4455;\n",
              "    fill: #D2E3FC;\n",
              "  }\n",
              "\n",
              "  [theme=dark] .colab-df-quickchart:hover {\n",
              "    background-color: #434B5C;\n",
              "    box-shadow: 0px 1px 3px 1px rgba(0, 0, 0, 0.15);\n",
              "    filter: drop-shadow(0px 1px 2px rgba(0, 0, 0, 0.3));\n",
              "    fill: #FFFFFF;\n",
              "  }\n",
              "</style>\n",
              "\n",
              "    <script>\n",
              "      async function quickchart(key) {\n",
              "        const containerElement = document.querySelector('#' + key);\n",
              "        const charts = await google.colab.kernel.invokeFunction(\n",
              "            'suggestCharts', [key], {});\n",
              "      }\n",
              "    </script>\n",
              "\n",
              "      <script>\n",
              "\n",
              "function displayQuickchartButton(domScope) {\n",
              "  let quickchartButtonEl =\n",
              "    domScope.querySelector('#df-d45a7139-be57-47f2-8981-d24a13f92f52 button.colab-df-quickchart');\n",
              "  quickchartButtonEl.style.display =\n",
              "    google.colab.kernel.accessAllowed ? 'block' : 'none';\n",
              "}\n",
              "\n",
              "        displayQuickchartButton(document);\n",
              "      </script>\n",
              "      <style>\n",
              "    .colab-df-container {\n",
              "      display:flex;\n",
              "      flex-wrap:wrap;\n",
              "      gap: 12px;\n",
              "    }\n",
              "\n",
              "    .colab-df-convert {\n",
              "      background-color: #E8F0FE;\n",
              "      border: none;\n",
              "      border-radius: 50%;\n",
              "      cursor: pointer;\n",
              "      display: none;\n",
              "      fill: #1967D2;\n",
              "      height: 32px;\n",
              "      padding: 0 0 0 0;\n",
              "      width: 32px;\n",
              "    }\n",
              "\n",
              "    .colab-df-convert:hover {\n",
              "      background-color: #E2EBFA;\n",
              "      box-shadow: 0px 1px 2px rgba(60, 64, 67, 0.3), 0px 1px 3px 1px rgba(60, 64, 67, 0.15);\n",
              "      fill: #174EA6;\n",
              "    }\n",
              "\n",
              "    [theme=dark] .colab-df-convert {\n",
              "      background-color: #3B4455;\n",
              "      fill: #D2E3FC;\n",
              "    }\n",
              "\n",
              "    [theme=dark] .colab-df-convert:hover {\n",
              "      background-color: #434B5C;\n",
              "      box-shadow: 0px 1px 3px 1px rgba(0, 0, 0, 0.15);\n",
              "      filter: drop-shadow(0px 1px 2px rgba(0, 0, 0, 0.3));\n",
              "      fill: #FFFFFF;\n",
              "    }\n",
              "  </style>\n",
              "\n",
              "      <script>\n",
              "        const buttonEl =\n",
              "          document.querySelector('#df-6fb50853-183f-4c58-ae58-027f9dfea15c button.colab-df-convert');\n",
              "        buttonEl.style.display =\n",
              "          google.colab.kernel.accessAllowed ? 'block' : 'none';\n",
              "\n",
              "        async function convertToInteractive(key) {\n",
              "          const element = document.querySelector('#df-6fb50853-183f-4c58-ae58-027f9dfea15c');\n",
              "          const dataTable =\n",
              "            await google.colab.kernel.invokeFunction('convertToInteractive',\n",
              "                                                     [key], {});\n",
              "          if (!dataTable) return;\n",
              "\n",
              "          const docLinkHtml = 'Like what you see? Visit the ' +\n",
              "            '<a target=\"_blank\" href=https://colab.research.google.com/notebooks/data_table.ipynb>data table notebook</a>'\n",
              "            + ' to learn more about interactive tables.';\n",
              "          element.innerHTML = '';\n",
              "          dataTable['output_type'] = 'display_data';\n",
              "          await google.colab.output.renderOutput(dataTable, element);\n",
              "          const docLink = document.createElement('div');\n",
              "          docLink.innerHTML = docLinkHtml;\n",
              "          element.appendChild(docLink);\n",
              "        }\n",
              "      </script>\n",
              "    </div>\n",
              "  </div>\n"
            ]
          },
          "metadata": {},
          "execution_count": 28
        }
      ]
    },
    {
      "cell_type": "code",
      "source": [
        "df.groupBy('Purchased').count().toPandas().plot(kind='barh')"
      ],
      "metadata": {
        "colab": {
          "base_uri": "https://localhost:8080/",
          "height": 447
        },
        "id": "siP-F9nhNP6s",
        "outputId": "c2c0a03b-c519-4927-8290-91e98dc82692"
      },
      "execution_count": 29,
      "outputs": [
        {
          "output_type": "execute_result",
          "data": {
            "text/plain": [
              "<Axes: >"
            ]
          },
          "metadata": {},
          "execution_count": 29
        },
        {
          "output_type": "display_data",
          "data": {
            "text/plain": [
              "<Figure size 640x480 with 1 Axes>"
            ],
            "image/png": "[encoded data removed]"
          },
          "metadata": {}
        }
      ]
    },
    {
      "cell_type": "code",
      "source": [
        "df.toPandas().isnull().sum()"
      ],
      "metadata": {
        "colab": {
          "base_uri": "https://localhost:8080/"
        },
        "id": "_DLkazdJNZ8D",
        "outputId": "11c61580-1f55-4886-e64d-012c47426293"
      },
      "execution_count": 30,
      "outputs": [
        {
          "output_type": "execute_result",
          "data": {
            "text/plain": [
              "Age                0\n",
              "EstimatedSalary    0\n",
              "Purchased          0\n",
              "dtype: int64"
            ]
          },
          "metadata": {},
          "execution_count": 30
        }
      ]
    },
    {
      "cell_type": "code",
      "source": [
        "# counting null in columns in pyspark\n",
        "\n",
        "from pyspark.sql import functions as F\n",
        "df.select([F.count(F.when(F.isnan(c),c)).alias(c) for c in df.columns]).toPandas().head()"
      ],
      "metadata": {
        "colab": {
          "base_uri": "https://localhost:8080/",
          "height": 81
        },
        "id": "kVp7ggvaN3qx",
        "outputId": "49d8241a-4504-4b87-f5e3-80ee47b349a9"
      },
      "execution_count": 31,
      "outputs": [
        {
          "output_type": "execute_result",
          "data": {
            "text/plain": [
              "   Age  EstimatedSalary  Purchased\n",
              "0    0                0          0"
            ],
            "text/html": [
              "\n",
              "\n",
              "  <div id=\"df-0dc73160-c2fe-47ca-8ace-d09ca0863eef\">\n",
              "    <div class=\"colab-df-container\">\n",
              "      <div>\n",
              "<style scoped>\n",
              "    .dataframe tbody tr th:only-of-type {\n",
              "        vertical-align: middle;\n",
              "    }\n",
              "\n",
              "    .dataframe tbody tr th {\n",
              "        vertical-align: top;\n",
              "    }\n",
              "\n",
              "    .dataframe thead th {\n",
              "        text-align: right;\n",
              "    }\n",
              "</style>\n",
              "<table border=\"1\" class=\"dataframe\">\n",
              "  <thead>\n",
              "    <tr style=\"text-align: right;\">\n",
              "      <th></th>\n",
              "      <th>Age</th>\n",
              "      <th>EstimatedSalary</th>\n",
              "      <th>Purchased</th>\n",
              "    </tr>\n",
              "  </thead>\n",
              "  <tbody>\n",
              "    <tr>\n",
              "      <th>0</th>\n",
              "      <td>0</td>\n",
              "      <td>0</td>\n",
              "      <td>0</td>\n",
              "    </tr>\n",
              "  </tbody>\n",
              "</table>\n",
              "</div>\n",
              "      <button class=\"colab-df-convert\" onclick=\"convertToInteractive('df-0dc73160-c2fe-47ca-8ace-d09ca0863eef')\"\n",
              "              title=\"Convert this dataframe to an interactive table.\"\n",
              "              style=\"display:none;\">\n",
              "\n",
              "  <svg xmlns=\"http://www.w3.org/2000/svg\" height=\"24px\"viewBox=\"0 0 24 24\"\n",
              "       width=\"24px\">\n",
              "    <path d=\"M0 0h24v24H0V0z\" fill=\"none\"/>\n",
              "    <path d=\"M18.56 5.44l.94 2.06.94-2.06 2.06-.94-2.06-.94-.94-2.06-.94 2.06-2.06.94zm-11 1L8.5 8.5l.94-2.06 2.06-.94-2.06-.94L8.5 2.5l-.94 2.06-2.06.94zm10 10l.94 2.06.94-2.06 2.06-.94-2.06-.94-.94-2.06-.94 2.06-2.06.94z\"/><path d=\"M17.41 7.96l-1.37-1.37c-.4-.4-.92-.59-1.43-.59-.52 0-1.04.2-1.43.59L10.3 9.45l-7.72 7.72c-.78.78-.78 2.05 0 2.83L4 21.41c.39.39.9.59 1.41.59.51 0 1.02-.2 1.41-.59l7.78-7.78 2.81-2.81c.8-.78.8-2.07 0-2.86zM5.41 20L4 18.59l7.72-7.72 1.47 1.35L5.41 20z\"/>\n",
              "  </svg>\n",
              "      </button>\n",
              "\n",
              "\n",
              "\n",
              "    <div id=\"df-0471bbbb-5d6e-47fe-930e-59ff990c838e\">\n",
              "      <button class=\"colab-df-quickchart\" onclick=\"quickchart('df-0471bbbb-5d6e-47fe-930e-59ff990c838e')\"\n",
              "              title=\"Suggest charts.\"\n",
              "              style=\"display:none;\">\n",
              "\n",
              "<svg xmlns=\"http://www.w3.org/2000/svg\" height=\"24px\"viewBox=\"0 0 24 24\"\n",
              "     width=\"24px\">\n",
              "    <g>\n",
              "        <path d=\"M19 3H5c-1.1 0-2 .9-2 2v14c0 1.1.9 2 2 2h14c1.1 0 2-.9 2-2V5c0-1.1-.9-2-2-2zM9 17H7v-7h2v7zm4 0h-2V7h2v10zm4 0h-2v-4h2v4z\"/>\n",
              "    </g>\n",
              "</svg>\n",
              "      </button>\n",
              "    </div>\n",
              "\n",
              "<style>\n",
              "  .colab-df-quickchart {\n",
              "    background-color: #E8F0FE;\n",
              "    border: none;\n",
              "    border-radius: 50%;\n",
              "    cursor: pointer;\n",
              "    display: none;\n",
              "    fill: #1967D2;\n",
              "    height: 32px;\n",
              "    padding: 0 0 0 0;\n",
              "    width: 32px;\n",
              "  }\n",
              "\n",
              "  .colab-df-quickchart:hover {\n",
              "    background-color: #E2EBFA;\n",
              "    box-shadow: 0px 1px 2px rgba(60, 64, 67, 0.3), 0px 1px 3px 1px rgba(60, 64, 67, 0.15);\n",
              "    fill: #174EA6;\n",
              "  }\n",
              "\n",
              "  [theme=dark] .colab-df-quickchart {\n",
              "    background-color: #3B4455;\n",
              "    fill: #D2E3FC;\n",
              "  }\n",
              "\n",
              "  [theme=dark] .colab-df-quickchart:hover {\n",
              "    background-color: #434B5C;\n",
              "    box-shadow: 0px 1px 3px 1px rgba(0, 0, 0, 0.15);\n",
              "    filter: drop-shadow(0px 1px 2px rgba(0, 0, 0, 0.3));\n",
              "    fill: #FFFFFF;\n",
              "  }\n",
              "</style>\n",
              "\n",
              "    <script>\n",
              "      async function quickchart(key) {\n",
              "        const containerElement = document.querySelector('#' + key);\n",
              "        const charts = await google.colab.kernel.invokeFunction(\n",
              "            'suggestCharts', [key], {});\n",
              "      }\n",
              "    </script>\n",
              "\n",
              "      <script>\n",
              "\n",
              "function displayQuickchartButton(domScope) {\n",
              "  let quickchartButtonEl =\n",
              "    domScope.querySelector('#df-0471bbbb-5d6e-47fe-930e-59ff990c838e button.colab-df-quickchart');\n",
              "  quickchartButtonEl.style.display =\n",
              "    google.colab.kernel.accessAllowed ? 'block' : 'none';\n",
              "}\n",
              "\n",
              "        displayQuickchartButton(document);\n",
              "      </script>\n",
              "      <style>\n",
              "    .colab-df-container {\n",
              "      display:flex;\n",
              "      flex-wrap:wrap;\n",
              "      gap: 12px;\n",
              "    }\n",
              "\n",
              "    .colab-df-convert {\n",
              "      background-color: #E8F0FE;\n",
              "      border: none;\n",
              "      border-radius: 50%;\n",
              "      cursor: pointer;\n",
              "      display: none;\n",
              "      fill: #1967D2;\n",
              "      height: 32px;\n",
              "      padding: 0 0 0 0;\n",
              "      width: 32px;\n",
              "    }\n",
              "\n",
              "    .colab-df-convert:hover {\n",
              "      background-color: #E2EBFA;\n",
              "      box-shadow: 0px 1px 2px rgba(60, 64, 67, 0.3), 0px 1px 3px 1px rgba(60, 64, 67, 0.15);\n",
              "      fill: #174EA6;\n",
              "    }\n",
              "\n",
              "    [theme=dark] .colab-df-convert {\n",
              "      background-color: #3B4455;\n",
              "      fill: #D2E3FC;\n",
              "    }\n",
              "\n",
              "    [theme=dark] .colab-df-convert:hover {\n",
              "      background-color: #434B5C;\n",
              "      box-shadow: 0px 1px 3px 1px rgba(0, 0, 0, 0.15);\n",
              "      filter: drop-shadow(0px 1px 2px rgba(0, 0, 0, 0.3));\n",
              "      fill: #FFFFFF;\n",
              "    }\n",
              "  </style>\n",
              "\n",
              "      <script>\n",
              "        const buttonEl =\n",
              "          document.querySelector('#df-0dc73160-c2fe-47ca-8ace-d09ca0863eef button.colab-df-convert');\n",
              "        buttonEl.style.display =\n",
              "          google.colab.kernel.accessAllowed ? 'block' : 'none';\n",
              "\n",
              "        async function convertToInteractive(key) {\n",
              "          const element = document.querySelector('#df-0dc73160-c2fe-47ca-8ace-d09ca0863eef');\n",
              "          const dataTable =\n",
              "            await google.colab.kernel.invokeFunction('convertToInteractive',\n",
              "                                                     [key], {});\n",
              "          if (!dataTable) return;\n",
              "\n",
              "          const docLinkHtml = 'Like what you see? Visit the ' +\n",
              "            '<a target=\"_blank\" href=https://colab.research.google.com/notebooks/data_table.ipynb>data table notebook</a>'\n",
              "            + ' to learn more about interactive tables.';\n",
              "          element.innerHTML = '';\n",
              "          dataTable['output_type'] = 'display_data';\n",
              "          await google.colab.output.renderOutput(dataTable, element);\n",
              "          const docLink = document.createElement('div');\n",
              "          docLink.innerHTML = docLinkHtml;\n",
              "          element.appendChild(docLink);\n",
              "        }\n",
              "      </script>\n",
              "    </div>\n",
              "  </div>\n"
            ]
          },
          "metadata": {},
          "execution_count": 31
        }
      ]
    },
    {
      "cell_type": "code",
      "source": [
        "from pyspark.ml.feature import VectorAssembler\n"
      ],
      "metadata": {
        "id": "ksLYmEIGOVxK"
      },
      "execution_count": 32,
      "outputs": []
    },
    {
      "cell_type": "code",
      "source": [
        "feat_cols = ['Age','EstimatedSalary']\n",
        "label_col = 'Purchased'"
      ],
      "metadata": {
        "id": "l3OcbDcEPAUO"
      },
      "execution_count": 33,
      "outputs": []
    },
    {
      "cell_type": "code",
      "source": [
        "df.printSchema()"
      ],
      "metadata": {
        "colab": {
          "base_uri": "https://localhost:8080/"
        },
        "id": "XobRxfHSPzJ9",
        "outputId": "3a915108-739f-449c-e9d5-8d570dfbe050"
      },
      "execution_count": 34,
      "outputs": [
        {
          "output_type": "stream",
          "name": "stdout",
          "text": [
            "root\n",
            " |-- Age: integer (nullable = true)\n",
            " |-- EstimatedSalary: double (nullable = true)\n",
            " |-- Purchased: integer (nullable = true)\n",
            "\n"
          ]
        }
      ]
    },
    {
      "cell_type": "code",
      "source": [
        "assembler = VectorAssembler(inputCols = feat_cols,outputCol=\"vectorized_features\")\n",
        "assembler_df = assembler.transform(df)\n",
        "assembler_df.show()"
      ],
      "metadata": {
        "colab": {
          "base_uri": "https://localhost:8080/"
        },
        "id": "VLUo5M4kPIfp",
        "outputId": "d5fcfe53-e102-4d42-bb2c-d72c64b4a89d"
      },
      "execution_count": 35,
      "outputs": [
        {
          "output_type": "stream",
          "name": "stdout",
          "text": [
            "+---+---------------+---------+-------------------+\n",
            "|Age|EstimatedSalary|Purchased|vectorized_features|\n",
            "+---+---------------+---------+-------------------+\n",
            "| 19|        19000.0|        0|     [19.0,19000.0]|\n",
            "| 35|        20000.0|        0|     [35.0,20000.0]|\n",
            "| 26|        43000.0|        0|     [26.0,43000.0]|\n",
            "| 27|        57000.0|        0|     [27.0,57000.0]|\n",
            "| 19|        76000.0|        0|     [19.0,76000.0]|\n",
            "| 27|        58000.0|        0|     [27.0,58000.0]|\n",
            "| 27|        84000.0|        0|     [27.0,84000.0]|\n",
            "| 32|       150000.0|        1|    [32.0,150000.0]|\n",
            "| 25|        33000.0|        0|     [25.0,33000.0]|\n",
            "| 35|        65000.0|        0|     [35.0,65000.0]|\n",
            "| 26|        80000.0|        0|     [26.0,80000.0]|\n",
            "| 26|        52000.0|        0|     [26.0,52000.0]|\n",
            "| 20|        86000.0|        0|     [20.0,86000.0]|\n",
            "| 32|        18000.0|        0|     [32.0,18000.0]|\n",
            "| 18|        82000.0|        0|     [18.0,82000.0]|\n",
            "| 29|        80000.0|        0|     [29.0,80000.0]|\n",
            "| 47|        25000.0|        1|     [47.0,25000.0]|\n",
            "| 45|        26000.0|        1|     [45.0,26000.0]|\n",
            "| 46|        28000.0|        1|     [46.0,28000.0]|\n",
            "| 48|        29000.0|        1|     [48.0,29000.0]|\n",
            "+---+---------------+---------+-------------------+\n",
            "only showing top 20 rows\n",
            "\n"
          ]
        }
      ]
    },
    {
      "cell_type": "code",
      "source": [
        "from pyspark.ml.feature import StandardScaler\n",
        "sc = StandardScaler().setInputCol(\"vectorized_features\").setOutputCol(\"features\")\n",
        "sc_model = sc.fit(assembler_df)\n",
        "scaled_df = sc_model.transform(assembler_df)\n",
        "scaled_df.show(truncate=False)"
      ],
      "metadata": {
        "colab": {
          "base_uri": "https://localhost:8080/"
        },
        "id": "rTmn_LLHPghs",
        "outputId": "8bbf20c4-23d0-4651-ab8d-e28fdc121bfa"
      },
      "execution_count": 37,
      "outputs": [
        {
          "output_type": "stream",
          "name": "stdout",
          "text": [
            "+---+---------------+---------+-------------------+---------------------------------------+\n",
            "|Age|EstimatedSalary|Purchased|vectorized_features|features                               |\n",
            "+---+---------------+---------+-------------------+---------------------------------------+\n",
            "|19 |19000.0        |0        |[19.0,19000.0]     |[1.8124796017229972,0.5572344233217031]|\n",
            "|35 |20000.0        |0        |[35.0,20000.0]     |[3.338778213700258,0.5865625508649507] |\n",
            "|26 |43000.0        |0        |[26.0,43000.0]     |[2.480235244463049,1.261109484359644]  |\n",
            "|27 |57000.0        |0        |[27.0,57000.0]     |[2.5756289077116277,1.6717032699651093]|\n",
            "|19 |76000.0        |0        |[19.0,76000.0]     |[1.8124796017229972,2.2289376932868126]|\n",
            "|27 |58000.0        |0        |[27.0,58000.0]     |[2.5756289077116277,1.7010313975083569]|\n",
            "|27 |84000.0        |0        |[27.0,84000.0]     |[2.5756289077116277,2.463562713632793] |\n",
            "|32 |150000.0       |1        |[32.0,150000.0]    |[3.0525972239545216,4.39921913148713]  |\n",
            "|25 |33000.0        |0        |[25.0,33000.0]     |[2.38484158121447,0.9678282089271686]  |\n",
            "|35 |65000.0        |0        |[35.0,65000.0]     |[3.338778213700258,1.9063282903110896] |\n",
            "|26 |80000.0        |0        |[26.0,80000.0]     |[2.480235244463049,2.3462502034598027] |\n",
            "|26 |52000.0        |0        |[26.0,52000.0]     |[2.480235244463049,1.5250626322488718] |\n",
            "|20 |86000.0        |0        |[20.0,86000.0]     |[1.907873264971576,2.522218968719288]  |\n",
            "|32 |18000.0        |0        |[32.0,18000.0]     |[3.0525972239545216,0.5279062957784556]|\n",
            "|18 |82000.0        |0        |[18.0,82000.0]     |[1.7170859384744184,2.404906458546298] |\n",
            "|29 |80000.0        |0        |[29.0,80000.0]     |[2.7664162342087852,2.3462502034598027]|\n",
            "|47 |25000.0        |1        |[47.0,25000.0]     |[4.483502172683203,0.7332031885811884] |\n",
            "|45 |26000.0        |1        |[45.0,26000.0]     |[4.292714846186046,0.7625313161244359] |\n",
            "|46 |28000.0        |1        |[46.0,28000.0]     |[4.388108509434625,0.8211875712109309] |\n",
            "|48 |29000.0        |1        |[48.0,29000.0]     |[4.578895835931783,0.8505156987541784] |\n",
            "+---+---------------+---------+-------------------+---------------------------------------+\n",
            "only showing top 20 rows\n",
            "\n"
          ]
        }
      ]
    },
    {
      "cell_type": "code",
      "source": [
        "print(sc_model.mean)\n",
        "print(sc_model.std)"
      ],
      "metadata": {
        "colab": {
          "base_uri": "https://localhost:8080/"
        },
        "id": "RTL11a1oRFv0",
        "outputId": "92a702bb-d54a-4e97-baec-b0f5505684e4"
      },
      "execution_count": 40,
      "outputs": [
        {
          "output_type": "stream",
          "name": "stdout",
          "text": [
            "[37.65499999999996,69742.50000000001]\n",
            "[10.482876597307927,34096.9602824248]\n"
          ]
        }
      ]
    },
    {
      "cell_type": "code",
      "source": [
        "from pyspark.ml import Pipeline\n",
        "\n",
        "pipeline = Pipeline().setStages([assembler,sc])\n",
        "pipeline_model = pipeline.fit(df)\n",
        "pipeline_df = pipeline_model.transform(df)\n",
        "pipeline_df.show(truncate=False)"
      ],
      "metadata": {
        "colab": {
          "base_uri": "https://localhost:8080/"
        },
        "id": "JrEFJtbwRMC1",
        "outputId": "00e861e8-4520-44a1-afcf-238833229c63"
      },
      "execution_count": 43,
      "outputs": [
        {
          "output_type": "stream",
          "name": "stdout",
          "text": [
            "+---+---------------+---------+-------------------+---------------------------------------+\n",
            "|Age|EstimatedSalary|Purchased|vectorized_features|features                               |\n",
            "+---+---------------+---------+-------------------+---------------------------------------+\n",
            "|19 |19000.0        |0        |[19.0,19000.0]     |[1.8124796017229972,0.5572344233217031]|\n",
            "|35 |20000.0        |0        |[35.0,20000.0]     |[3.338778213700258,0.5865625508649507] |\n",
            "|26 |43000.0        |0        |[26.0,43000.0]     |[2.480235244463049,1.261109484359644]  |\n",
            "|27 |57000.0        |0        |[27.0,57000.0]     |[2.5756289077116277,1.6717032699651093]|\n",
            "|19 |76000.0        |0        |[19.0,76000.0]     |[1.8124796017229972,2.2289376932868126]|\n",
            "|27 |58000.0        |0        |[27.0,58000.0]     |[2.5756289077116277,1.7010313975083569]|\n",
            "|27 |84000.0        |0        |[27.0,84000.0]     |[2.5756289077116277,2.463562713632793] |\n",
            "|32 |150000.0       |1        |[32.0,150000.0]    |[3.0525972239545216,4.39921913148713]  |\n",
            "|25 |33000.0        |0        |[25.0,33000.0]     |[2.38484158121447,0.9678282089271686]  |\n",
            "|35 |65000.0        |0        |[35.0,65000.0]     |[3.338778213700258,1.9063282903110896] |\n",
            "|26 |80000.0        |0        |[26.0,80000.0]     |[2.480235244463049,2.3462502034598027] |\n",
            "|26 |52000.0        |0        |[26.0,52000.0]     |[2.480235244463049,1.5250626322488718] |\n",
            "|20 |86000.0        |0        |[20.0,86000.0]     |[1.907873264971576,2.522218968719288]  |\n",
            "|32 |18000.0        |0        |[32.0,18000.0]     |[3.0525972239545216,0.5279062957784556]|\n",
            "|18 |82000.0        |0        |[18.0,82000.0]     |[1.7170859384744184,2.404906458546298] |\n",
            "|29 |80000.0        |0        |[29.0,80000.0]     |[2.7664162342087852,2.3462502034598027]|\n",
            "|47 |25000.0        |1        |[47.0,25000.0]     |[4.483502172683203,0.7332031885811884] |\n",
            "|45 |26000.0        |1        |[45.0,26000.0]     |[4.292714846186046,0.7625313161244359] |\n",
            "|46 |28000.0        |1        |[46.0,28000.0]     |[4.388108509434625,0.8211875712109309] |\n",
            "|48 |29000.0        |1        |[48.0,29000.0]     |[4.578895835931783,0.8505156987541784] |\n",
            "+---+---------------+---------+-------------------+---------------------------------------+\n",
            "only showing top 20 rows\n",
            "\n"
          ]
        }
      ]
    },
    {
      "cell_type": "code",
      "source": [
        "train,test = pipeline_df.randomSplit([0.80,0.20],seed=2023)\n",
        "print(train.count())\n",
        "print(test.count())"
      ],
      "metadata": {
        "colab": {
          "base_uri": "https://localhost:8080/"
        },
        "id": "yqLcjCETRrpI",
        "outputId": "fe9c26d5-33b6-4f99-8124-8108503019bc"
      },
      "execution_count": 44,
      "outputs": [
        {
          "output_type": "stream",
          "name": "stdout",
          "text": [
            "319\n",
            "81\n"
          ]
        }
      ]
    },
    {
      "cell_type": "code",
      "source": [
        "from pyspark.ml.classification import LogisticRegression\n",
        "\n",
        "lr = LogisticRegression(featuresCol=\"features\",labelCol=\"Purchased\",maxIter=5)\n",
        "lr_model = lr.fit(train)"
      ],
      "metadata": {
        "id": "tk6nY5QWVPSr"
      },
      "execution_count": 45,
      "outputs": []
    },
    {
      "cell_type": "code",
      "source": [
        "pred = lr_model.transform(test)"
      ],
      "metadata": {
        "id": "kPaBU9PYVs3x"
      },
      "execution_count": 46,
      "outputs": []
    },
    {
      "cell_type": "code",
      "source": [
        "pred.groupBy('prediction').count().toPandas().plot(kind='barh')"
      ],
      "metadata": {
        "colab": {
          "base_uri": "https://localhost:8080/",
          "height": 447
        },
        "id": "wd_r2ZPGVzh4",
        "outputId": "f6e4b670-4f70-475b-c61f-60b1c3f8db92"
      },
      "execution_count": 48,
      "outputs": [
        {
          "output_type": "execute_result",
          "data": {
            "text/plain": [
              "<Axes: >"
            ]
          },
          "metadata": {},
          "execution_count": 48
        },
        {
          "output_type": "display_data",
          "data": {
            "text/plain": [
              "<Figure size 640x480 with 1 Axes>"
            ],
            "image/png": "[encoded data removed]"
          },
          "metadata": {}
        }
      ]
    },
    {
      "cell_type": "code",
      "source": [],
      "metadata": {
        "id": "iIs2aXqCV2D6"
      },
      "execution_count": null,
      "outputs": []
    }
  ]
}